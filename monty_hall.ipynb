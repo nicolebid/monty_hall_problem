{
 "cells": [
  {
   "cell_type": "code",
   "execution_count": null,
   "metadata": {},
   "outputs": [
    {
     "data": {
      "text/html": [
       "\n",
       "  <style>\n",
       "    .codecell {\n",
       "        display: none;\n",
       "    }\n",
       "  </style>\n"
      ],
      "text/plain": [
       "<IPython.core.display.HTML object>"
      ]
     },
     "metadata": {},
     "output_type": "display_data"
    }
   ],
   "source": [
    "import random\n",
    "import matplotlib.pyplot as plt\n",
    "import ipywidgets as widgets\n",
    "from IPython.display import display, clear_output, HTML"
   ]
  },
  {
   "cell_type": "markdown",
   "metadata": {},
   "source": [
    "<div class=\"alert alert-info\">\n",
    "\n",
    "# **The Monty Hall Problem - *2025 Edition***  \n",
    "\n",
    "</div>"
   ]
  },
  {
   "cell_type": "markdown",
   "metadata": {},
   "source": [
    "# **The Problem**\n",
    "🎥 Imagine your live, in front of thousands of viewers, playing a viral game taking over the internet. The premise is simple:\n",
    "- There are 3 digital doors on your screen. \n",
    "- One door hides a $100,000 cash reward&#8212;*enough money for you to buy that luxury car you've been dreaming of!* 💸🚗\n",
    "- The other two doors hide a pop-up ad for a product you have no interest in buying. ❌\n",
    "\n",
    "You pick door #1. Feeling lucky, but then 💥BAM💥 the host of the game, Monty Hall, opens door #3. It's that pop-up ad for the product you don't want. *Great*, you think, *that means door #1 could hold the cash*.  Monty says, \"Alright, before revealing the remaining doors, I will give you one final decision: You can either stay with your original selection, door #1, or switch to door #2. What will it be?\"\n",
    "\n",
    "## The Big Question\n",
    "Would you switch your choice&#8212;what gives you a better chance of winning?\n"
   ]
  },
  {
   "cell_type": "markdown",
   "metadata": {},
   "source": [
    "***"
   ]
  },
  {
   "cell_type": "markdown",
   "metadata": {},
   "source": [
    "Before we break down this problem, let's explore with some experimentation! Try out the simulated game below. See if you can guess whether it's better to switch doors or stay with your original choice.\n",
    "\n",
    "Select a door to begin playing. "
   ]
  },
  {
   "cell_type": "code",
   "execution_count": 5,
   "metadata": {},
   "outputs": [
    {
     "data": {
      "application/vnd.jupyter.widget-view+json": {
       "model_id": "cb5a3cb027b54d12a651406660d392e8",
       "version_major": 2,
       "version_minor": 0
      },
      "text/plain": [
       "Button(description='🚪 Door 1', layout=Layout(width='100px'), style=ButtonStyle())"
      ]
     },
     "metadata": {},
     "output_type": "display_data"
    },
    {
     "data": {
      "application/vnd.jupyter.widget-view+json": {
       "model_id": "6e0f6bf0c7fe4cb7b444538a09111b9e",
       "version_major": 2,
       "version_minor": 0
      },
      "text/plain": [
       "Button(description='🚪 Door 2', layout=Layout(width='100px'), style=ButtonStyle())"
      ]
     },
     "metadata": {},
     "output_type": "display_data"
    },
    {
     "data": {
      "application/vnd.jupyter.widget-view+json": {
       "model_id": "a8a0f94ba55b492697de3f2ce37a7251",
       "version_major": 2,
       "version_minor": 0
      },
      "text/plain": [
       "Button(description='🚪 Door 3', layout=Layout(width='100px'), style=ButtonStyle())"
      ]
     },
     "metadata": {},
     "output_type": "display_data"
    }
   ],
   "source": [
    "user_choice = None\n",
    "revealed_door = None\n",
    "doors = [0, 0, 1]  # 1 is a win\n",
    "\n",
    "# Stats\n",
    "switch_wins = 0\n",
    "switch_losses = 0\n",
    "stay_wins = 0\n",
    "stay_losses = 0\n",
    "total_switches = 0\n",
    "total_stays = 0\n",
    "\n",
    "def on_door_click(door_num):\n",
    "    global user_choice, revealed_door, doors\n",
    "\n",
    "    # Shuffle doors\n",
    "    random.shuffle(doors)\n",
    "    user_choice = door_num + 1\n",
    "\n",
    "    # Host reveals a losing door\n",
    "    revealed_door = [i for i in range(3) if i != door_num and doors[i] == 0][0] + 1\n",
    "    remaining_door = [i for i in range(3) if i != user_choice - 1 and i != revealed_door - 1][0] + 1\n",
    "\n",
    "    # Clear output and display doors\n",
    "    clear_output(wait=True)\n",
    "    display(door_button_1, door_button_2, door_button_3)\n",
    "\n",
    "    print(f\"You selected Door {user_choice}.\")\n",
    "    print(f\"Monty reveals Door {revealed_door}, it's a pop-up ad! 🚨\\n\")\n",
    "    print(f\"Would you like to switch to Door {remaining_door}?\")\n",
    "\n",
    "    display(switch_dropdown, switch_button)\n",
    "\n",
    "def on_switch_click(b):\n",
    "    global user_choice, switch_wins, switch_losses, stay_wins, stay_losses, total_switches, total_stays\n",
    "\n",
    "    switch_choice = switch_dropdown.value\n",
    "    switched = (switch_choice == 'y')\n",
    "\n",
    "    if switched:\n",
    "        # Track switching\n",
    "        user_choice = [i for i in range(3) if i != user_choice - 1 and i != revealed_door - 1][0] + 1\n",
    "        total_switches += 1\n",
    "    else:\n",
    "        total_stays += 1\n",
    "\n",
    "    # Determine outcome\n",
    "    won = doors[user_choice - 1] == 1\n",
    "\n",
    "    if switched:\n",
    "        if won:\n",
    "            switch_wins += 1\n",
    "        else:\n",
    "            switch_losses += 1\n",
    "    else:\n",
    "        if won:\n",
    "            stay_wins += 1\n",
    "        else:\n",
    "            stay_losses += 1\n",
    "\n",
    "    # Display result\n",
    "    clear_output(wait=True)\n",
    "    display(door_button_1, door_button_2, door_button_3)\n",
    "    \n",
    "    result_text = f\"Door {user_choice}: {'💸' if won else '❌'}\\n\\n\"\n",
    "    result_text += \"Congratulations! You won $100,000! 💸\" if won else \"Sorry, not a winner. Enjoy your pop-up ad. 🚨\"\n",
    "    print(result_text)\n",
    "\n",
    "    # Show stats\n",
    "    print(\"\\n---\\nGame Statistics:\")\n",
    "    print(f\"Switching: {switch_wins} wins, {switch_losses} losses.\")\n",
    "    print(f\"Staying: {stay_wins} wins, {stay_losses} losses.\\n\")\n",
    "    print(f\"Click another door to play again!\")\n",
    "\n",
    "# Door buttons\n",
    "door_button_1 = widgets.Button(description=\"🚪 Door 1\", layout=widgets.Layout(width='100px'))\n",
    "door_button_2 = widgets.Button(description=\"🚪 Door 2\", layout=widgets.Layout(width='100px'))\n",
    "door_button_3 = widgets.Button(description=\"🚪 Door 3\", layout=widgets.Layout(width='100px'))\n",
    "\n",
    "door_button_1.on_click(lambda b: on_door_click(0))\n",
    "door_button_2.on_click(lambda b: on_door_click(1))\n",
    "door_button_3.on_click(lambda b: on_door_click(2))\n",
    "\n",
    "# Dropdown for switch choice\n",
    "switch_dropdown = widgets.Dropdown(\n",
    "    options=[('No, stick with my choice', 'n'), ('Yes, switch doors', 'y')],\n",
    "    value='n',\n",
    "    description=\"Switch?\",\n",
    ")\n",
    "\n",
    "# Button select final choice\n",
    "switch_button = widgets.Button(description=\"Show Result\")\n",
    "switch_button.on_click(on_switch_click)\n",
    "display(door_button_1, door_button_2, door_button_3)"
   ]
  },
  {
   "cell_type": "markdown",
   "metadata": {},
   "source": [
    "---"
   ]
  },
  {
   "cell_type": "markdown",
   "metadata": {},
   "source": [
    "# **Game Analysis**\n",
    "\n",
    "After playing several rounds of the game, you might've developed a gut feeling about whether switching or staying gives you a better chance of winning. But is your intuition correct? Let’s break down this problem using conditional probability techniques to find out! 🔍"
   ]
  },
  {
   "cell_type": "markdown",
   "metadata": {},
   "source": [
    "## Possible Game Paths\n",
    "\n",
    "Let's explore all potential outcomes of the game by considering the choices at each decision point and Monty's actions as the host. For simplicity, assume the prize money is behind door 1 (the same reasoning applies if the money is behind door 2 or door 3).\n",
    "\n",
    "The decision tree below provides a total of 6 possible ways the game can unfold. Each branch leading to a result represents a unique path."
   ]
  },
  {
   "cell_type": "markdown",
   "metadata": {},
   "source": [
    "<p align=\"center\">\n",
    "  <img src=\"https://raw.githubusercontent.com/nicolebid/monty_hall_problem/main/img/tree.jpg\" alt=\"Tree\" width=\"800\">\n",
    "</p>"
   ]
  },
  {
   "cell_type": "markdown",
   "metadata": {},
   "source": [
    "At a glance, you might conclude that 3 wins and 3 losses suggest even odds of winning or losing the game, but don’t jump ahead just yet. The key to understanding the Monty Hall Problem lies in Monty's actions. Monty, an all-knowing host, always reveals a door with the pop-up ad. This provides crucial information&#8212;information that can increase your odds of winning if you use it! To understand how, *conditional probability* can help analyze decision 2: to stay or switch.  "
   ]
  },
  {
   "cell_type": "markdown",
   "metadata": {},
   "source": [
    "The decision tree below highlights the options of when a player chooses to stay with their original door. "
   ]
  },
  {
   "cell_type": "markdown",
   "metadata": {},
   "source": [
    "<p align=\"center\">\n",
    "  <img src=\"https://raw.githubusercontent.com/nicolebid/monty_hall_problem/main/img/condition_stay.jpg\" alt=\"Stay Condition\" width=\"800\">\n",
    "</p>"
   ]
  },
  {
   "cell_type": "markdown",
   "metadata": {},
   "source": [
    "Only 1 out of 3 branches leads to a win, while the other 2 result in a loss. Hence, if a player chooses to stay with their original door, they have a 1/3 chance of winning and a 2/3 chance of losing&#8212;not very good odds! \n",
    "\n",
    "Alternatively, we could have focused on the decision to switch.  "
   ]
  },
  {
   "cell_type": "markdown",
   "metadata": {},
   "source": [
    "<p align=\"center\">\n",
    "  <img src=\"https://raw.githubusercontent.com/nicolebid/monty_hall_problem/main/img/condition_switch.jpg\" alt=\"Switch Condition\" width=\"800\">\n",
    "</p>"
   ]
  },
  {
   "cell_type": "markdown",
   "metadata": {},
   "source": [
    "Here, 2 out of 3 branches lead to a win, while only 1 leads to a loss. Hence, if a player chooses to switch, they have a 2/3 chance of winning and a 1/3 chance of losing&#8212;much better odds! Switching is the better choice to make!"
   ]
  },
  {
   "cell_type": "markdown",
   "metadata": {},
   "source": [
    "## Solving with Bayes' Theorem \n",
    "\n",
    "Alternatively, a mathematical approach using Bayes' Theorem can solve the Monty Hall Problem. Bayes' Theorem is a powerful tool in conditional probability. It helps update what we believe based on new information. It answers questions like: Given what I just learned, how likely is something to be true? The formula for Bayes' Theorem is: \n",
    "$$P(A|B) = \\frac{P(B|A)\\cdot P(A)}{P(B)}$$\n",
    "where\n",
    "- $P(A)$ = The probability of event A occurring \n",
    "- $P(B)$ = The probability of event B occurring \n",
    "- $P(B|A)$ = The probability of event B occurring given A occurred \n",
    "- $P(A|B)$ = The probability of event A occurring given B occurred\n",
    "\n",
    "*If you would like a refresher on Bayes' Theorem and its proof, check out the additional resources at the end.*"
   ]
  },
  {
   "cell_type": "markdown",
   "metadata": {},
   "source": [
    "For simplicity, suppose you choose door 1. Let the event $W_1$ represent the case that door 1 contains the prize money. Let event $R$ represent the case that the revealed door contains a pop-up ad. We want to find: $P(W_1|R)$\n",
    "\n",
    "Applying Bayes' Theorem: \n",
    "$$P(W_1|R) = \\frac{P(R|W_1)\\cdot P(W_1)}{P(R)}$$\n",
    "By the Law of Total Probability, it follows:\n",
    "$$P(W_1|R) = \\frac{P(R|W_1)\\cdot P(W_1)}{P(R|W_1)\\cdot P(W_1) + P(R|{W_1}^c)\\cdot P({W_1}^c)}$$"
   ]
  },
  {
   "cell_type": "markdown",
   "metadata": {},
   "source": [
    "Calculate each probability, as follows: \n",
    "\n",
    "- $P(W_1) = 1/3$ - This is the probability door 1 contains the prize. Since there are 3 doors, there is a 1/3 chance of door 1 containing the money. \n",
    "- $P(R|W_1) = 1$ - This is the probability the revealed door contains the pop-up ad given door 1 contains the money. Since Monty always reveals a pop-up ad the probability is 1.  \n",
    "- $P({{W_1}^c}) = 2/3$ - This is the probability that door 1 does not contain the money. Since door 1 can only contain or not contain the money, we get $P({{W_1}^c}) = 1 - P({W_1}) = 1 - 1/3 = 2/3$\n",
    "- $P(R|{{W_1}^c}) = 1$ - This is the probability the revealed door contains the pop-up ad given door 1 does not contain the money. As previously, Monty always reveals a pop-up ad, so the probability is 1.  \n",
    "\n",
    "Plug in the calculated values: "
   ]
  },
  {
   "cell_type": "markdown",
   "metadata": {},
   "source": [
    "$$P(W_1|R) = \\frac{1\\cdot\\frac{1}{3}}{\\left(1\\cdot \\frac{1}{3}\\right) + \\left(1\\cdot \\frac{2}{3}\\right)}$$\n",
    "$$P(W_1|R) = \\frac{1}{3}$$"
   ]
  },
  {
   "cell_type": "markdown",
   "metadata": {},
   "source": [
    "Therefore, there is a 1/3 chance of winning if we stay with door 1. The only other alternative is to switch to the remaining door, giving a 1 - 1/3, or 2/3 chance of winning. As before, switching is the better option!"
   ]
  },
  {
   "cell_type": "markdown",
   "metadata": {},
   "source": [
    "The Monty Hall Problem continues to pose an intriguing challenge within probability theory. While it might seem strange at first, breaking down the problem in different ways shows why switching is the smarter choice. Sometimes the best choice isn't the most obvious!"
   ]
  },
  {
   "cell_type": "markdown",
   "metadata": {},
   "source": [
    "<p align=\"center\">\n",
    "    <img src=\"https://raw.githubusercontent.com/nicolebid/monty_hall_problem/main/img/lets-make-a-deal-monty-hall.jpg\" alt=\"Monty\" width=\"800\">\n",
    "    <br>\n",
    "    <em>Monty Hall (Source: https://www.tvinsider.com/people/monty-hall/) </em>\n",
    "</p>\n"
   ]
  },
  {
   "cell_type": "markdown",
   "metadata": {},
   "source": [
    "# Additional Resources\n",
    "- For the original Monty Hall Problem and its history, refer to this [article](https://encyclopediaofmath.org/wiki/Monty_hall_problem) from the Encyclopedia of Math.\n",
    "- For a refresher on Bayes' Theorem and its proof, check out [Dr. Trevor Bezett's YouTube Video](https://www.youtube.com/watch?v=XQoLVl31ZfQ&ab_channel=Dr.TreforBazett)"
   ]
  }
 ],
 "metadata": {
  "kernelspec": {
   "display_name": "573",
   "language": "python",
   "name": "python3"
  },
  "language_info": {
   "codemirror_mode": {
    "name": "ipython",
    "version": 3
   },
   "file_extension": ".py",
   "mimetype": "text/x-python",
   "name": "python",
   "nbconvert_exporter": "python",
   "pygments_lexer": "ipython3",
   "version": "3.11.6"
  }
 },
 "nbformat": 4,
 "nbformat_minor": 2
}
